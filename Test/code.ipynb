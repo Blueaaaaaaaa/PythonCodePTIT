{
 "cells": [
  {
   "cell_type": "code",
   "execution_count": 30,
   "metadata": {},
   "outputs": [
    {
     "name": "stdout",
     "output_type": "stream",
     "text": [
      "5\n",
      "12\n"
     ]
    }
   ],
   "source": [
    "#Bài 1 cách 1\n",
    "# 1.Đọc file flights.csv và in ra số dòng, số cột của file\n",
    "\n",
    "import csv\n",
    "with open('file.csv', 'r') as file:\n",
    "    content = csv.reader(file)\n",
    "    data = [row for row in content]\n",
    "print(len(data[0]))\n",
    "print(len(data))"
   ]
  },
  {
   "cell_type": "code",
   "execution_count": 36,
   "metadata": {},
   "outputs": [
    {
     "name": "stdout",
     "output_type": "stream",
     "text": [
      "5\n",
      "12\n"
     ]
    }
   ],
   "source": [
    "#Bài 1 cách 2\n",
    "# 1.Đọc file flights.csv và in ra số dòng, số cột của file\n",
    "\n",
    "with open('file.csv', 'r') as file:\n",
    "    lines = file.readlines()\n",
    "print(len(lines[0].split(',')))\n",
    "\n",
    "print(len(lines))"
   ]
  },
  {
   "cell_type": "code",
   "execution_count": 27,
   "metadata": {},
   "outputs": [
    {
     "name": "stdout",
     "output_type": "stream",
     "text": [
      "132 112\n"
     ]
    }
   ],
   "source": [
    "#Bài 2\n",
    "# 2.File json với định dạng đã cho. In ra giá trị của max và mean, cách nhau bởi dấu trắng\n",
    "\n",
    "import json\n",
    "with open('file.json', 'r') as file:\n",
    "    data = json.load(file)\n",
    "data[\"flights\"]\n",
    "maxn, minn = -10**9, 10**9\n",
    "for content in data[\"flights\"]:\n",
    "    maxn = max(maxn, int(content[\"passengers\"]))\n",
    "    minn = min(minn, int(content[\"passengers\"]))\n",
    "print(maxn, minn)"
   ]
  },
  {
   "cell_type": "code",
   "execution_count": 41,
   "metadata": {},
   "outputs": [
    {
     "name": "stdout",
     "output_type": "stream",
     "text": [
      "3\n",
      "3\n"
     ]
    }
   ],
   "source": [
    "#Bài 3\n",
    "#3.in ra số dòng và số cột của file json filght\n",
    "\n",
    "import json\n",
    "with open('file.json', 'r') as file:\n",
    "    data = json.load(file)\n",
    "data[\"flights\"]\n",
    "print(len(data[\"flights\"]))\n",
    "print(len(data[\"flights\"][0]))"
   ]
  }
 ],
 "metadata": {
  "kernelspec": {
   "display_name": "agent",
   "language": "python",
   "name": "python3"
  },
  "language_info": {
   "codemirror_mode": {
    "name": "ipython",
    "version": 3
   },
   "file_extension": ".py",
   "mimetype": "text/x-python",
   "name": "python",
   "nbconvert_exporter": "python",
   "pygments_lexer": "ipython3",
   "version": "3.10.14"
  }
 },
 "nbformat": 4,
 "nbformat_minor": 2
}
