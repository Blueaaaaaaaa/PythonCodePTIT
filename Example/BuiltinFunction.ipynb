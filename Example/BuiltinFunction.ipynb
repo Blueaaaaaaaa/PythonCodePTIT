{
 "cells": [
  {
   "cell_type": "code",
   "execution_count": 2,
   "id": "initial_id",
   "metadata": {
    "collapsed": true,
    "ExecuteTime": {
     "end_time": "2024-01-07T08:04:19.627468900Z",
     "start_time": "2024-01-07T08:04:19.607837200Z"
    }
   },
   "outputs": [],
   "source": [
    "#Create Example\n",
    "a=[101,102,103,104,105,106]\n",
    "b=[-101,-102,-103,-104,-105,-106]\n",
    "c=['nguyen','hai','lam','b22dcvt303']\n"
   ]
  },
  {
   "cell_type": "code",
   "execution_count": 11,
   "outputs": [
    {
     "name": "stdout",
     "output_type": "stream",
     "text": [
      "[101, 102, 103, 104, 105, 106]\n",
      "True\n",
      "True\n",
      "'NguyenH@iL@m'\n",
      "0b10000\n",
      "0x10\n"
     ]
    }
   ],
   "source": [
    "#abs()\tReturns the absolute value of a number\n",
    "d=list(map(abs,b))\n",
    "print(d)\n",
    "#Returns True if all items in an iterable object are true\n",
    "e=all(b)\n",
    "print(e)\n",
    "#any()\tReturns True if any item in an iterable object is true\n",
    "f=any(b)\n",
    "print(f)\n",
    "#ascii()\tReturns a readable version of an object. Replaces none-ascii characters with escape character\n",
    "res='NguyenH@iL@m'\n",
    "print(ascii(res))\n",
    "#bin()\tReturns the binary version of a number\n",
    "print(bin(16))\n",
    "print(hex(16))\n",
    "print()"
   ],
   "metadata": {
    "collapsed": false,
    "ExecuteTime": {
     "end_time": "2024-01-07T08:08:54.446157900Z",
     "start_time": "2024-01-07T08:08:54.437187700Z"
    }
   },
   "id": "2c19d7f945e3f7ec"
  }
 ],
 "metadata": {
  "kernelspec": {
   "display_name": "Python 3",
   "language": "python",
   "name": "python3"
  },
  "language_info": {
   "codemirror_mode": {
    "name": "ipython",
    "version": 2
   },
   "file_extension": ".py",
   "mimetype": "text/x-python",
   "name": "python",
   "nbconvert_exporter": "python",
   "pygments_lexer": "ipython2",
   "version": "2.7.6"
  }
 },
 "nbformat": 4,
 "nbformat_minor": 5
}
