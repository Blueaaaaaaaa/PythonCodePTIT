{
 "cells": [
  {
   "cell_type": "code",
   "execution_count": 17,
   "id": "initial_id",
   "metadata": {
    "collapsed": true,
    "ExecuteTime": {
     "end_time": "2024-01-07T05:38:51.744726300Z",
     "start_time": "2024-01-07T05:38:51.732112900Z"
    }
   },
   "outputs": [],
   "source": [
    "#Create Example List\n",
    "a = [1,2,3,4,5,6,7,8,9]\n"
   ]
  },
  {
   "cell_type": "code",
   "execution_count": 3,
   "outputs": [
    {
     "name": "stdout",
     "output_type": "stream",
     "text": [
      "[9, 8, 7, 6, 5, 4, 3, 2, 1]\n"
     ]
    }
   ],
   "source": [
    "#Reverse List\n",
    "b=a[::-1]\n",
    "print(b)"
   ],
   "metadata": {
    "collapsed": false,
    "ExecuteTime": {
     "end_time": "2024-01-07T05:30:43.407486200Z",
     "start_time": "2024-01-07T05:30:43.395826100Z"
    }
   },
   "id": "cfd90c99e310930f"
  },
  {
   "cell_type": "code",
   "execution_count": 9,
   "outputs": [
    {
     "name": "stdout",
     "output_type": "stream",
     "text": [
      "[2, 3, 4, 5, 6, 7, 8]\n",
      "[2, 3, 4, 5]\n",
      "[2, 4]\n"
     ]
    }
   ],
   "source": [
    "# Take from 1st elements to the last (dif with a[1:-1])\n",
    "c=a[1:]\n",
    "print(c)\n",
    "# Take from 1st elements to 5th elements \n",
    "d=a[1:5]\n",
    "print(d)\n",
    "# Take from 1st elements to 5th elements with step = 2\n",
    "e=a[1:5:2]\n",
    "print(e)\n"
   ],
   "metadata": {
    "collapsed": false,
    "ExecuteTime": {
     "end_time": "2024-01-07T05:34:31.056610500Z",
     "start_time": "2024-01-07T05:34:31.038061100Z"
    }
   },
   "id": "3bf24e2cda51eca4"
  },
  {
   "cell_type": "code",
   "execution_count": 11,
   "outputs": [
    {
     "name": "stdout",
     "output_type": "stream",
     "text": [
      "[1, 2, 3, 4, 5, 6, 7, 8, 9]\n"
     ]
    }
   ],
   "source": [
    "#Take form the 1st elements to the last\n",
    "f=a[:len(a)]\n",
    "print(f)"
   ],
   "metadata": {
    "collapsed": false,
    "ExecuteTime": {
     "end_time": "2024-01-07T05:36:33.861004600Z",
     "start_time": "2024-01-07T05:36:33.847076700Z"
    }
   },
   "id": "d14ef12280fd541f"
  },
  {
   "cell_type": "code",
   "execution_count": 18,
   "outputs": [
    {
     "name": "stdout",
     "output_type": "stream",
     "text": [
      "[10, 11, 12, 13, 1, 2, 3, 4, 5, 6, 7, 8, 9]\n",
      "[1, 2, 3, 4, 5, 6, 7, 8, 9, 10, 11, 12, 13]\n"
     ]
    }
   ],
   "source": [
    "#Create Extend list\n",
    "e=[10,11,12,13]\n",
    "#Copy so as not to change the origin file\n",
    "b=a.copy()\n",
    "c=a.copy()\n",
    "#Extend in front of the list\n",
    "b[:0]=e\n",
    "print(b)\n",
    "#Extend the back of the list\n",
    "c[len(c):]=e\n",
    "print(c)"
   ],
   "metadata": {
    "collapsed": false,
    "ExecuteTime": {
     "end_time": "2024-01-07T05:41:59.343053Z",
     "start_time": "2024-01-07T05:41:59.321352800Z"
    }
   },
   "id": "4a2a6bf3ed79f0d0"
  },
  {
   "cell_type": "code",
   "execution_count": 19,
   "outputs": [
    {
     "name": "stdout",
     "output_type": "stream",
     "text": [
      "[1, 6, 7, 8, 9]\n",
      "[]\n"
     ]
    }
   ],
   "source": [
    "#Copy so as not to change the origin file\n",
    "b=a.copy()\n",
    "c=a.copy()\n",
    "#delete any elements in list\n",
    "del b[1:5]\n",
    "print(b)\n",
    "del c[:]\n",
    "print(c)"
   ],
   "metadata": {
    "collapsed": false,
    "ExecuteTime": {
     "end_time": "2024-01-07T05:43:18.386216Z",
     "start_time": "2024-01-07T05:43:18.360105600Z"
    }
   },
   "id": "b70a08a421c45b87"
  }
 ],
 "metadata": {
  "kernelspec": {
   "display_name": "Python 3",
   "language": "python",
   "name": "python3"
  },
  "language_info": {
   "codemirror_mode": {
    "name": "ipython",
    "version": 2
   },
   "file_extension": ".py",
   "mimetype": "text/x-python",
   "name": "python",
   "nbconvert_exporter": "python",
   "pygments_lexer": "ipython2",
   "version": "2.7.6"
  }
 },
 "nbformat": 4,
 "nbformat_minor": 5
}
