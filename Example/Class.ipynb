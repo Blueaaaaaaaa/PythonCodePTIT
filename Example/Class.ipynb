{
 "cells": [
  {
   "cell_type": "code",
   "execution_count": 3,
   "id": "initial_id",
   "metadata": {
    "collapsed": true,
    "ExecuteTime": {
     "end_time": "2024-01-14T04:48:10.424874200Z",
     "start_time": "2024-01-14T04:48:10.419893Z"
    }
   },
   "outputs": [],
   "source": [
    "#Declare CLass\n",
    "class HelloWorld:\n",
    "    pass #Pass statement make the class is not empty\n"
   ]
  },
  {
   "cell_type": "code",
   "execution_count": 17,
   "outputs": [],
   "source": [
    "class staff:\n",
    "    def __init__(self,name,salary,bonus):\n",
    "        self.name=name\n",
    "        self.salary=salary\n",
    "        self.bonus=self.salary*bonus\n",
    "    def lunaryearbonus(self):\n",
    "        return f\"Muc luong cua {self.name} trong tet nguyen dan nam nay la {self.salary} muc thuong tet la {self.bonus} cam on vi da dong hanh voi cong ty\"\n",
    "\n"
   ],
   "metadata": {
    "collapsed": false,
    "ExecuteTime": {
     "end_time": "2024-01-14T04:59:37.295027400Z",
     "start_time": "2024-01-14T04:59:37.285559800Z"
    }
   },
   "id": "67de868e34df36c9"
  },
  {
   "cell_type": "code",
   "execution_count": 18,
   "outputs": [
    {
     "data": {
      "text/plain": "'Muc luong cua Nguyen Hai Lam trong tet nguyen dan nam nay la 1000000 muc thuong tet la 400000.0 cam on vi da dong hanh voi cong ty'"
     },
     "execution_count": 18,
     "metadata": {},
     "output_type": "execute_result"
    }
   ],
   "source": [
    "lunarbonus=staff('Nguyen Hai Lam',1000000,0.4)\n",
    "lunarbonus.lunaryearbonus()"
   ],
   "metadata": {
    "collapsed": false,
    "ExecuteTime": {
     "end_time": "2024-01-14T04:59:39.000714500Z",
     "start_time": "2024-01-14T04:59:38.982016200Z"
    }
   },
   "id": "dac991a52b480f49"
  },
  {
   "cell_type": "code",
   "execution_count": 19,
   "outputs": [],
   "source": [
    "lunarbonus.name='Nguyen Hai'"
   ],
   "metadata": {
    "collapsed": false,
    "ExecuteTime": {
     "end_time": "2024-01-14T05:00:34.867049100Z",
     "start_time": "2024-01-14T05:00:34.852735300Z"
    }
   },
   "id": "9f2569f94ab5cdb1"
  },
  {
   "cell_type": "code",
   "execution_count": 20,
   "outputs": [
    {
     "data": {
      "text/plain": "'Muc luong cua Nguyen Hai trong tet nguyen dan nam nay la 1000000 muc thuong tet la 400000.0 cam on vi da dong hanh voi cong ty'"
     },
     "execution_count": 20,
     "metadata": {},
     "output_type": "execute_result"
    }
   ],
   "source": [
    "lunarbonus.lunaryearbonus()\n"
   ],
   "metadata": {
    "collapsed": false,
    "ExecuteTime": {
     "end_time": "2024-01-14T05:00:41.699404700Z",
     "start_time": "2024-01-14T05:00:41.655752800Z"
    }
   },
   "id": "c75d410fd9153361"
  },
  {
   "cell_type": "code",
   "execution_count": null,
   "outputs": [],
   "source": [],
   "metadata": {
    "collapsed": false
   },
   "id": "40ed9744ec50db29"
  }
 ],
 "metadata": {
  "kernelspec": {
   "display_name": "Python 3",
   "language": "python",
   "name": "python3"
  },
  "language_info": {
   "codemirror_mode": {
    "name": "ipython",
    "version": 2
   },
   "file_extension": ".py",
   "mimetype": "text/x-python",
   "name": "python",
   "nbconvert_exporter": "python",
   "pygments_lexer": "ipython2",
   "version": "2.7.6"
  }
 },
 "nbformat": 4,
 "nbformat_minor": 5
}
