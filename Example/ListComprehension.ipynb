{
 "cells": [
  {
   "cell_type": "code",
   "execution_count": 11,
   "id": "initial_id",
   "metadata": {
    "collapsed": true,
    "ExecuteTime": {
     "end_time": "2024-01-07T07:48:29.318031200Z",
     "start_time": "2024-01-07T07:48:29.306010800Z"
    }
   },
   "outputs": [],
   "source": [
    "# Create List Example\n",
    "a=[1,2,3,4,5,6,7,8,9,10]\n",
    "s=['nguyen','hai','lam','B22DCVT303']\n",
    "w='Nguyen Hai Lam'"
   ]
  },
  {
   "cell_type": "code",
   "execution_count": 12,
   "outputs": [
    {
     "name": "stdout",
     "output_type": "stream",
     "text": [
      "[1, 2, 3, 4, 5, 6, 7, 8, 9, 10]\n",
      "[1, 4, 9, 16, 25, 36, 49, 64, 81, 100]\n",
      "['hai', 'lam']\n",
      "['N', 'g', 'u', 'y', 'e', 'n', ' ', 'H', 'a', 'i', ' ', 'L', 'a', 'm']\n"
     ]
    }
   ],
   "source": [
    "#Copy to new list or change elements\n",
    "b=[x for x in a]\n",
    "print(b)\n",
    "c=[x**2 for x in a]\n",
    "print(c)\n",
    "#add for conditional statement\n",
    "d=[x for x in s if len(x)<=5]\n",
    "print(d)\n",
    "#convert a word to a list\n",
    "e=[x for x in w]\n",
    "print(e)"
   ],
   "metadata": {
    "collapsed": false,
    "ExecuteTime": {
     "end_time": "2024-01-07T07:48:30.995223500Z",
     "start_time": "2024-01-07T07:48:30.967753900Z"
    }
   },
   "id": "9195b447fba4e520"
  },
  {
   "cell_type": "code",
   "execution_count": 13,
   "outputs": [
    {
     "name": "stdout",
     "output_type": "stream",
     "text": [
      "[32, 28, 5, 14, 28, 14]\n"
     ]
    }
   ],
   "source": [
    "#Combine with def function\n",
    "def sumofdigit(n):\n",
    "    sum=0\n",
    "    while n!=0:\n",
    "        sum+=n%10\n",
    "        n//=10\n",
    "    return sum\n",
    "init=[8969,49933,3002,77,784342,455]\n",
    "trans=[sumofdigit(x) for x in init]\n",
    "print(trans)"
   ],
   "metadata": {
    "collapsed": false,
    "ExecuteTime": {
     "end_time": "2024-01-07T07:51:40.887417300Z",
     "start_time": "2024-01-07T07:51:40.879446600Z"
    }
   },
   "id": "5395d815bb90288b"
  },
  {
   "cell_type": "code",
   "execution_count": 17,
   "outputs": [
    {
     "name": "stdout",
     "output_type": "stream",
     "text": [
      "[1, 1, 1, 2, 2, 2, 3, 3, 3, 4, 4, 4, 5, 5, 5, 6, 6, 6, 7, 7, 7, 8, 8, 8, 9, 9, 9, 10, 10, 10]\n"
     ]
    }
   ],
   "source": [
    "#for list in list\n",
    "init=[[1001,1002,1003,1004,1005,1006],[1007,1008,1009],[1008,1010,1011,1012]]\n",
    "trans=[x for x in a for y in init]\n",
    "print(trans)"
   ],
   "metadata": {
    "collapsed": false,
    "ExecuteTime": {
     "end_time": "2024-01-07T07:54:38.128438500Z",
     "start_time": "2024-01-07T07:54:38.101508900Z"
    }
   },
   "id": "6f1061ac6f86a021"
  }
 ],
 "metadata": {
  "kernelspec": {
   "display_name": "Python 3",
   "language": "python",
   "name": "python3"
  },
  "language_info": {
   "codemirror_mode": {
    "name": "ipython",
    "version": 2
   },
   "file_extension": ".py",
   "mimetype": "text/x-python",
   "name": "python",
   "nbconvert_exporter": "python",
   "pygments_lexer": "ipython2",
   "version": "2.7.6"
  }
 },
 "nbformat": 4,
 "nbformat_minor": 5
}
