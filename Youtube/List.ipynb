{
 "cells": [
  {
   "cell_type": "code",
   "execution_count": 9,
   "metadata": {},
   "outputs": [
    {
     "data": {
      "text/plain": [
       "[12, 29, 28, 78, 77, 10, 49, 51, 17, 45, 25, 13, 80, 78, 16, 60, 14, 87, 5, 72]"
      ]
     },
     "execution_count": 9,
     "metadata": {},
     "output_type": "execute_result"
    }
   ],
   "source": [
    "import random\n",
    "\n",
    "array = [random.randint(0, 100) for i in range(20)]\n",
    "array"
   ]
  },
  {
   "cell_type": "code",
   "execution_count": null,
   "metadata": {},
   "outputs": [],
   "source": [
    "#List Sorting  \n",
    "\n",
    "sorted_array = sorted(array) #New sorted list\n",
    "\n",
    "array.sort() #Sorts the list in place\n",
    "\n",
    "sorted_array_desc = sorted(array, reverse=True) #New sorted list in descending order\n",
    "\n",
    "sorted_array = sorted(array, key=lambda x: x % 10) #New sorted list by last digit\n",
    "\n",
    "print(sorted_array)\n"
   ]
  },
  {
   "cell_type": "code",
   "execution_count": 15,
   "metadata": {},
   "outputs": [
    {
     "name": "stdout",
     "output_type": "stream",
     "text": [
      "[12, 28, 77, 49, 17, 25, 80, 16, 14, 5]\n"
     ]
    }
   ],
   "source": [
    "#List Slicing\n",
    "\n",
    "a = array #Nomarl List\n",
    "\n",
    "b = array[0] #First Element\n",
    "\n",
    "c = array[-1] #Last Element\n",
    "\n",
    "d = array[0:5] #First 5 Elements\n",
    "\n",
    "e = array[:5] #First 5 Elements\n",
    "\n",
    "f = array[5:-1] #Elements from 5 to last\n",
    "\n",
    "g = array[5:] #Elements from 5 to last\n",
    "\n",
    "h = array[::2] #Every 2nd Element\n",
    "\n",
    "i = array[1:8:3] #Elements from 1 to 8 with step 3\n",
    "\n",
    "k = array[::-1] #Reverse List\n",
    "print(h)\n"
   ]
  },
  {
   "cell_type": "code",
   "execution_count": 25,
   "metadata": {},
   "outputs": [
    {
     "name": "stdout",
     "output_type": "stream",
     "text": [
      "['APPLE', 'BANANA', 'CHERRY', 'DATE']\n"
     ]
    }
   ],
   "source": [
    "# List Comprehension\n",
    "\n",
    "numbers = [i for i in range(20)] #List of numbers from 0 to 19\n",
    "\n",
    "odd_numbers = [i for i in range(20) if i % 2 != 0] #List of odd numbers from 0 to 19\n",
    "\n",
    "doubled_even_numbers = [i * 2 for i in range(20) if i % 2 == 0] #List of doubled even numbers from 0 to 19\n",
    "\n",
    "doubled_array = [x * 2 for x in array] #List of doubled elements of array\n",
    "\n",
    "numbers_and_squares = [(i, i ** 2) for i in range(10)] #List of tuples with number and its square\n",
    "\n",
    "matrix = [[1, 2, 3], [4, 5, 6], [7, 8, 9]] \n",
    "flat_list = [item for sublist in matrix for item in sublist] #Flatten matrix\n",
    "\n",
    "filtered_array = [x for x in array if x > 50] #List of elements greater than 50\n",
    "\n",
    "words = [\"apple\", \"banana\", \"cherry\", \"date\"]\n",
    "uppercase_words = [word.upper() for word in words] #List of uppercase words\n",
    "\n",
    "print(uppercase_words)\n"
   ]
  },
  {
   "cell_type": "code",
   "execution_count": 30,
   "metadata": {},
   "outputs": [
    {
     "name": "stdout",
     "output_type": "stream",
     "text": [
      "[12, 28, 78, 10, 80, 78, 16, 60, 14, 72]\n"
     ]
    }
   ],
   "source": [
    "#List Filter\n",
    "\n",
    "even_numbers = list(filter(lambda x: x % 2 == 0, array)) #List of even numbers\n",
    "\n",
    "filtered_array = list(filter(lambda x: x > 50, array)) #List of elements greater than 50\n",
    "\n",
    "print(even_numbers)"
   ]
  },
  {
   "cell_type": "code",
   "execution_count": 31,
   "metadata": {},
   "outputs": [
    {
     "name": "stdout",
     "output_type": "stream",
     "text": [
      "[24, 58, 56, 156, 154, 20, 98, 102, 34, 90, 50, 26, 160, 156, 32, 120, 28, 174, 10, 144]\n"
     ]
    }
   ],
   "source": [
    "#List Map\n",
    "\n",
    "squared_numbers = list(map(lambda x: x ** 2, array)) #List of squared numbers\n",
    "\n",
    "doubled_numbers = list(map(lambda x: x * 2, array)) #List of doubled numbers\n",
    "\n",
    "print(doubled_numbers)"
   ]
  },
  {
   "cell_type": "code",
   "execution_count": 34,
   "metadata": {},
   "outputs": [
    {
     "name": "stdout",
     "output_type": "stream",
     "text": [
      "[(1, 'a'), (2, 'b'), (3, 'c')]\n"
     ]
    }
   ],
   "source": [
    "#List Zipping \n",
    "\n",
    "list1 = [1, 2, 3]\n",
    "list2 = [\"a\", \"b\", \"c\"]\n",
    "\n",
    "zipped = list(zip(list1, list2)) #List of tuples with elements from both lists\n",
    "\n",
    "unzipped = list(zip(*zipped)) #Unzipped lists\n",
    "\n",
    "print(zipped)"
   ]
  },
  {
   "cell_type": "code",
   "execution_count": 35,
   "metadata": {},
   "outputs": [
    {
     "name": "stdout",
     "output_type": "stream",
     "text": [
      "0 12\n",
      "1 29\n",
      "2 28\n",
      "3 78\n",
      "4 77\n",
      "5 10\n",
      "6 49\n",
      "7 51\n",
      "8 17\n",
      "9 45\n",
      "10 25\n",
      "11 13\n",
      "12 80\n",
      "13 78\n",
      "14 16\n",
      "15 60\n",
      "16 14\n",
      "17 87\n",
      "18 5\n",
      "19 72\n"
     ]
    }
   ],
   "source": [
    "#List Enumerate\n",
    "\n",
    "for index, value in enumerate(array):\n",
    "    print(index, value)\n",
    "    "
   ]
  }
 ],
 "metadata": {
  "kernelspec": {
   "display_name": "agent",
   "language": "python",
   "name": "python3"
  },
  "language_info": {
   "codemirror_mode": {
    "name": "ipython",
    "version": 3
   },
   "file_extension": ".py",
   "mimetype": "text/x-python",
   "name": "python",
   "nbconvert_exporter": "python",
   "pygments_lexer": "ipython3",
   "version": "3.10.14"
  }
 },
 "nbformat": 4,
 "nbformat_minor": 2
}
